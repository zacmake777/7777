{
  "nbformat": 4,
  "nbformat_minor": 0,
  "metadata": {
    "colab": {
      "provenance": [],
      "authorship_tag": "ABX9TyMH+S/vkFF+wBJOqztPcC/o",
      "include_colab_link": true
    },
    "kernelspec": {
      "name": "python3",
      "display_name": "Python 3"
    },
    "language_info": {
      "name": "python"
    }
  },
  "cells": [
    {
      "cell_type": "markdown",
      "metadata": {
        "id": "view-in-github",
        "colab_type": "text"
      },
      "source": [
        "<a href=\"https://colab.research.google.com/github/zacmake777/7777/blob/main/bot1.ipynb\" target=\"_parent\"><img src=\"https://colab.research.google.com/assets/colab-badge.svg\" alt=\"Open In Colab\"/></a>"
      ]
    },
    {
      "cell_type": "code",
      "execution_count": 1,
      "metadata": {
        "colab": {
          "base_uri": "https://localhost:8080/"
        },
        "id": "b9VFLi0XfHpT",
        "outputId": "b33297eb-4523-4414-d1de-adaa5e72ab25"
      },
      "outputs": [
        {
          "output_type": "stream",
          "name": "stdout",
          "text": [
            "Collecting python-telegram-bot\n",
            "  Downloading python_telegram_bot-21.5-py3-none-any.whl.metadata (17 kB)\n",
            "Collecting httpx~=0.27 (from python-telegram-bot)\n",
            "  Downloading httpx-0.27.2-py3-none-any.whl.metadata (7.1 kB)\n",
            "Requirement already satisfied: anyio in /usr/local/lib/python3.10/dist-packages (from httpx~=0.27->python-telegram-bot) (3.7.1)\n",
            "Requirement already satisfied: certifi in /usr/local/lib/python3.10/dist-packages (from httpx~=0.27->python-telegram-bot) (2024.8.30)\n",
            "Collecting httpcore==1.* (from httpx~=0.27->python-telegram-bot)\n",
            "  Downloading httpcore-1.0.5-py3-none-any.whl.metadata (20 kB)\n",
            "Requirement already satisfied: idna in /usr/local/lib/python3.10/dist-packages (from httpx~=0.27->python-telegram-bot) (3.8)\n",
            "Requirement already satisfied: sniffio in /usr/local/lib/python3.10/dist-packages (from httpx~=0.27->python-telegram-bot) (1.3.1)\n",
            "Collecting h11<0.15,>=0.13 (from httpcore==1.*->httpx~=0.27->python-telegram-bot)\n",
            "  Downloading h11-0.14.0-py3-none-any.whl.metadata (8.2 kB)\n",
            "Requirement already satisfied: exceptiongroup in /usr/local/lib/python3.10/dist-packages (from anyio->httpx~=0.27->python-telegram-bot) (1.2.2)\n",
            "Downloading python_telegram_bot-21.5-py3-none-any.whl (648 kB)\n",
            "\u001b[2K   \u001b[90m━━━━━━━━━━━━━━━━━━━━━━━━━━━━━━━━━━━━━━━━\u001b[0m \u001b[32m648.8/648.8 kB\u001b[0m \u001b[31m9.3 MB/s\u001b[0m eta \u001b[36m0:00:00\u001b[0m\n",
            "\u001b[?25hDownloading httpx-0.27.2-py3-none-any.whl (76 kB)\n",
            "\u001b[2K   \u001b[90m━━━━━━━━━━━━━━━━━━━━━━━━━━━━━━━━━━━━━━━━\u001b[0m \u001b[32m76.4/76.4 kB\u001b[0m \u001b[31m4.1 MB/s\u001b[0m eta \u001b[36m0:00:00\u001b[0m\n",
            "\u001b[?25hDownloading httpcore-1.0.5-py3-none-any.whl (77 kB)\n",
            "\u001b[2K   \u001b[90m━━━━━━━━━━━━━━━━━━━━━━━━━━━━━━━━━━━━━━━━\u001b[0m \u001b[32m77.9/77.9 kB\u001b[0m \u001b[31m2.7 MB/s\u001b[0m eta \u001b[36m0:00:00\u001b[0m\n",
            "\u001b[?25hDownloading h11-0.14.0-py3-none-any.whl (58 kB)\n",
            "\u001b[2K   \u001b[90m━━━━━━━━━━━━━━━━━━━━━━━━━━━━━━━━━━━━━━━━\u001b[0m \u001b[32m58.3/58.3 kB\u001b[0m \u001b[31m2.2 MB/s\u001b[0m eta \u001b[36m0:00:00\u001b[0m\n",
            "\u001b[?25hInstalling collected packages: h11, httpcore, httpx, python-telegram-bot\n",
            "Successfully installed h11-0.14.0 httpcore-1.0.5 httpx-0.27.2 python-telegram-bot-21.5\n"
          ]
        }
      ],
      "source": [
        "pip install \"python-telegram-bot\""
      ]
    },
    {
      "cell_type": "code",
      "source": [
        "from flask import Flask, request\n",
        "from telegram import Update, InlineKeyboardButton, InlineKeyboardMarkup\n",
        "from telegram.ext import Application, CommandHandler, MessageHandler, filters\n",
        "import logging\n",
        "import os\n",
        "\n",
        "# 设置 logging\n",
        "logging.basicConfig(\n",
        "    format='%(asctime)s - %(name)s - %(levelname)s - %(message)s',\n",
        "    level=logging.INFO\n",
        ")\n",
        "logger = logging.getLogger(__name__)\n",
        "\n",
        "# 保存最后一条欢迎消息的 message_id\n",
        "last_welcome_message_id = None\n",
        "\n",
        "# 创建 Flask 应用\n",
        "app = Flask(__name__)\n",
        "\n",
        "async def welcome_new_member(update: Update, context) -> None:\n",
        "    logger.info(f\"New members: {update.message.new_chat_members}\")  # 这行日志用于调试新成员加入\n",
        "    for new_member in update.message.new_chat_members:\n",
        "        logger.info(f\"Sending welcome message to: {new_member.username}\") # 这行日志用于确认发送欢迎消息\n",
        "\n",
        "# 处理新成员加入事件\n",
        "async def welcome_new_member(update: Update, context) -> None:\n",
        "    global last_welcome_message_id\n",
        "    chat_id = update.effective_chat.id\n",
        "    new_members = update.message.new_chat_members\n",
        "\n",
        "    # 删除上一次的欢迎消息\n",
        "    if last_welcome_message_id:\n",
        "        try:\n",
        "            await context.bot.delete_message(chat_id=chat_id, message_id=last_welcome_message_id)\n",
        "        except Exception as e:\n",
        "            logger.warning(f\"无法删除消息: {e}\")\n",
        "\n",
        "    # 欢迎新成员并发送欢迎消息\n",
        "    for new_member in new_members:\n",
        "        welcome_message =  (\n",
        "            \"Welcome to MAKE777! 🎉\\n\"\n",
        "            \"The Ultimate Gaming Platform in India\\n\\n\"\n",
        "            \"🎯 Explore the Best in Gaming:\\n\"\n",
        "            \"- Cricket Betting – Experience the thrill of real-time cricket betting.\\n\"\n",
        "            \"- Aviator – Try your luck and soar to new heights with this exciting game.\\n\\n\"\n",
        "            \"💰 The Most Secure Cash In & Cash Out\\n\"\n",
        "            \"Worry-free transactions with our secure payment systems.\\n\\n\"\n",
        "            \"💳 Diverse Payment Options\\n\"\n",
        "            \"Now supporting multiple payment methods, including USDT, for a seamless gaming experience.\\n\\n\"\n",
        "            \"🕒 24/7 Customer Support\\n\"\n",
        "            \"Our dedicated support team is here for you around the clock, ready to assist with any questions or concerns.\\n\\n\"\n",
        "            \"📢 Stay Connected\\n\"\n",
        "            \"Join our WhatsApp Channel to receive the latest updates, promotions, and exclusive events!\\n\"\n",
        "            \"👉 [Click Here to Join](https://chat.whatsapp.com/DssOxxsVkzZ19hOgU3clQt)\\n\\n\"\n",
        "            \"🌐 Visit Our Official Website\\n\"\n",
        "            \"For the best gaming experience, visit [MAKE777](http://www.make777.com) today!\"\n",
        "             )\n",
        "\n",
        "        # 按钮设置\n",
        "        keyboard = [\n",
        "            [InlineKeyboardButton(\"WhatsApp Channel\", url=\"https://chat.whatsapp.com/DssOxxsVkzZ19hOgU3clQt\")],\n",
        "            [InlineKeyboardButton(\"Official Website\", url=\"http://www.make777.com\")],\n",
        "            [InlineKeyboardButton(\"Ubitwallet download\", url=\"https://www.yubitusers.com/?merchantCode=make777\")],\n",
        "            [InlineKeyboardButton(\"Ubit Channel\", url=\"https://t.me/ubitofficialchannelIN\")]\n",
        "        ]\n",
        "        reply_markup = InlineKeyboardMarkup(keyboard)\n",
        "\n",
        "        # 发送欢迎消息\n",
        "        message = await context.bot.send_message(chat_id=chat_id, text=welcome_message, reply_markup=reply_markup, parse_mode='Markdown')\n",
        "        last_welcome_message_id = message.message_id\n",
        "\n",
        "\n",
        "\n",
        "# 配置 Telegram Webhook 的路由\n",
        "@app.route('/hook', methods=['POST'])\n",
        "def webhook():\n",
        "    update = Update.de_json(request.get_json(), bot)\n",
        "    # ... rest of your webhook handling code\n",
        "    application.update_queue.put_nowait(update)\n",
        "    return 'ok'\n",
        "\n",
        "# Telegram Bot 配置\n",
        "TOKEN = '7168554739:AAErpmihpUdacIXd3bYCtAfwE-72sWvkmTs'  # 替换为你的 Bot Token\n",
        "application = Application.builder().token(TOKEN).build()\n",
        "\n",
        "# 注册新成员加入的处理器\n",
        "application.add_handler(MessageHandler(filters.StatusUpdate.NEW_CHAT_MEMBERS, welcome_new_member))\n",
        "\n",
        "# 启动 Flask 应用\n",
        "if name == '__main__':\n",
        "    app.run(port=int(os.getenv('PORT', 5000)), host='0.0.0.0')"
      ],
      "metadata": {
        "colab": {
          "base_uri": "https://localhost:8080/"
        },
        "id": "nltBiF_tfIGd",
        "outputId": "bb28db16-b328-4b2e-db8c-40d74d8efcf3"
      },
      "execution_count": 2,
      "outputs": [
        {
          "output_type": "stream",
          "name": "stdout",
          "text": [
            " * Serving Flask app '__main__'\n",
            " * Debug mode: on\n"
          ]
        },
        {
          "output_type": "stream",
          "name": "stderr",
          "text": [
            "INFO:werkzeug:\u001b[31m\u001b[1mWARNING: This is a development server. Do not use it in a production deployment. Use a production WSGI server instead.\u001b[0m\n",
            " * Running on http://127.0.0.1:5000\n",
            "INFO:werkzeug:\u001b[33mPress CTRL+C to quit\u001b[0m\n",
            "INFO:werkzeug: * Restarting with stat\n"
          ]
        }
      ]
    },
    {
      "cell_type": "code",
      "source": [
        "pip freeze > requirements.txt"
      ],
      "metadata": {
        "id": "Su0kelMkg6y-"
      },
      "execution_count": 3,
      "outputs": []
    }
  ]
}